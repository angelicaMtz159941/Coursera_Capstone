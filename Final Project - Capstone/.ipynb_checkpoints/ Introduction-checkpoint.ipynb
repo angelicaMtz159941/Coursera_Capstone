{
 "cells": [
  {
   "cell_type": "markdown",
   "metadata": {},
   "source": [
    "# Introduction/Business Problem"
   ]
  },
  {
   "cell_type": "markdown",
   "metadata": {},
   "source": [
    "Nowadays, if a person wanted to open a new business, be it a restaurant, a cafeteria, a flower shop, a hairdresser, a dental office, a pharmacy, a gym or any business that comes to mind, it is necessary to study the area where you would like your business to be located. From my point of view, many factors need to be considered.\n",
    "Mexico city is one of the most over populated cities in the world, just in my neighborhood there is a grocery store on every corner, for every 4 streets there is a gym and so many similar cases. Opening a new business in Mexico City is a little more complicated than it seems, opening a new business implies a bit of luck, that the product you offer pleases people more to prefer your business than the competition.\n",
    "All my life I have lived in the cdmx, I know which are the most dangerous colonies, the colonies with the largest population, the richest colonies, or the colonies where there are more companies.\n",
    "Taking advantage of the fact that this project is free, I would like to see how feasible it would be to put some \"tacos\" in one of the most popular areas in Mexico City. Considering that in Mexico there are some \"tacos\" on every street."
   ]
  }
 ],
 "metadata": {
  "kernelspec": {
   "display_name": "Python 3",
   "language": "python",
   "name": "python3"
  },
  "language_info": {
   "codemirror_mode": {
    "name": "ipython",
    "version": 3
   },
   "file_extension": ".py",
   "mimetype": "text/x-python",
   "name": "python",
   "nbconvert_exporter": "python",
   "pygments_lexer": "ipython3",
   "version": "3.7.4"
  }
 },
 "nbformat": 4,
 "nbformat_minor": 2
}
