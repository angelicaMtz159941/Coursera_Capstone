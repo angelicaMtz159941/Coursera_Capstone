{
 "cells": [
  {
   "cell_type": "markdown",
   "metadata": {},
   "source": [
    "# Data"
   ]
  },
  {
   "cell_type": "markdown",
   "metadata": {},
   "source": [
    "My first tool to use would be foursquare, to be able to determine the businesses near the points where I would like to open my new \"tacos\", considering only for this first point the places that could be considered as my competition, since at the end of the day the idea It is not just opening a business to be opened, you have to be smart and consider that people are often based on routines. So even if my \"tacos\" are the richest in the world, it would be ideal if I wasn't close to other businesses or restaurants that sell the products that I want to sell. For example, everyone in Mexico City knows that a taco stand has a better product than those bigger restaurants, which I don't want to say names, but that is a fact here in Mexico City and many other places.\n",
    "The reason is that the taco stands are usually small, where a maximum of 30 people can be accommodated, therefore the meat that is bought is per day. I mean that it is a fresh product.\n",
    "First I would like to determine where a good location for my \"tacos\" could be, so the first thing I would do is investigate where there is more population in the delegations(is the way in which mexico city is divided) the name of the zone inside of Mexico City, for this I will use information from wikipedia and a dataset provided by the INEGI (Instituto National Statistics and Geography) in Mexico, has a website where we can download these datasets are for public use.\n",
    "Determining which are the delegations with the largest population, we could also determine which are the most popular neighborhoods within those delegations. In the same way, I can find this information on wikipedia, on various pages of the government of Mexico there are data for public use. I would make the necessary scrapers to be able to extract the information to delimit more where I would put my \"tacos\".\n",
    "Having already defined the area by neighborhood, I would use foursquare to see what businesses are in that geographic point.\n",
    "Finally I could cluster to secure the ideal point within that neighborhood where I could have some advantage in selling my product."
   ]
  },
  {
   "cell_type": "code",
   "execution_count": null,
   "metadata": {},
   "outputs": [],
   "source": []
  }
 ],
 "metadata": {
  "kernelspec": {
   "display_name": "Python 3",
   "language": "python",
   "name": "python3"
  },
  "language_info": {
   "codemirror_mode": {
    "name": "ipython",
    "version": 3
   },
   "file_extension": ".py",
   "mimetype": "text/x-python",
   "name": "python",
   "nbconvert_exporter": "python",
   "pygments_lexer": "ipython3",
   "version": "3.7.4"
  }
 },
 "nbformat": 4,
 "nbformat_minor": 2
}
